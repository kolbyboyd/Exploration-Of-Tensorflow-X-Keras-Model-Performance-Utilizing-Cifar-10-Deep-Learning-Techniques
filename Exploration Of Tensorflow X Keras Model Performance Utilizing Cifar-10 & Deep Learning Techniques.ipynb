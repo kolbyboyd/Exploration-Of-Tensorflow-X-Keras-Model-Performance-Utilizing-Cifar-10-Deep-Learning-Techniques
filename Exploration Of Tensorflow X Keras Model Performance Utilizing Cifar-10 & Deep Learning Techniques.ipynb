{
  "nbformat": 4,
  "nbformat_minor": 0,
  "metadata": {
    "colab": {
      "provenance": [],
      "gpuType": "T4",
      "authorship_tag": "ABX9TyMwE0b6Di7AXE3TZ2YOcRqX",
      "include_colab_link": true
    },
    "kernelspec": {
      "name": "python3",
      "display_name": "Python 3"
    },
    "language_info": {
      "name": "python"
    },
    "accelerator": "GPU"
  },
  "cells": [
    {
      "cell_type": "markdown",
      "metadata": {
        "id": "view-in-github",
        "colab_type": "text"
      },
      "source": [
        "<a href=\"https://colab.research.google.com/github/kolbyboyd/Exploration-Of-Tensorflow-X-Keras-Model-Performance-Utilizing-Cifar-10-Deep-Learning-Techniques/blob/main/Exploration%20Of%20Tensorflow%20X%20Keras%20Model%20Performance%20Utilizing%20Cifar-10%20%26%20Deep%20Learning%20Techniques.ipynb\" target=\"_parent\"><img src=\"https://colab.research.google.com/assets/colab-badge.svg\" alt=\"Open In Colab\"/></a>"
      ]
    },
    {
      "cell_type": "markdown",
      "source": [
        "# CIFAR-10 Image Classification using TensorFlow and Keras\n",
        "This project demonstrates image classification on the CIFAR-10 dataset using TensorFlow and Keras. It includes code for data preprocessing, model building, training, evaluation, and visualization of results."
      ],
      "metadata": {
        "id": "Apc_g6lWv0C5"
      }
    },
    {
      "cell_type": "markdown",
      "source": [
        "## Installation\n",
        "#### We will be using TensorFlow, Keras, Numpy, and MatPlotLib to accomplish our goal.\n",
        "#### You can install these required libraries using pip:"
      ],
      "metadata": {
        "id": "PMOTJlvmv7gO"
      }
    },
    {
      "cell_type": "code",
      "source": [
        "!pip install tensorflow\n",
        "!pip install keras\n",
        "!pip install numpy\n",
        "!pip install matplotlib"
      ],
      "metadata": {
        "colab": {
          "base_uri": "https://localhost:8080/"
        },
        "id": "oYNPNgG8v1u7",
        "outputId": "b684c38e-4ecc-4b47-c451-1f03379907d6"
      },
      "execution_count": 1,
      "outputs": [
        {
          "output_type": "stream",
          "name": "stdout",
          "text": [
            "Requirement already satisfied: tensorflow in /usr/local/lib/python3.10/dist-packages (2.15.0)\n",
            "Requirement already satisfied: absl-py>=1.0.0 in /usr/local/lib/python3.10/dist-packages (from tensorflow) (1.4.0)\n",
            "Requirement already satisfied: astunparse>=1.6.0 in /usr/local/lib/python3.10/dist-packages (from tensorflow) (1.6.3)\n",
            "Requirement already satisfied: flatbuffers>=23.5.26 in /usr/local/lib/python3.10/dist-packages (from tensorflow) (24.3.25)\n",
            "Requirement already satisfied: gast!=0.5.0,!=0.5.1,!=0.5.2,>=0.2.1 in /usr/local/lib/python3.10/dist-packages (from tensorflow) (0.5.4)\n",
            "Requirement already satisfied: google-pasta>=0.1.1 in /usr/local/lib/python3.10/dist-packages (from tensorflow) (0.2.0)\n",
            "Requirement already satisfied: h5py>=2.9.0 in /usr/local/lib/python3.10/dist-packages (from tensorflow) (3.9.0)\n",
            "Requirement already satisfied: libclang>=13.0.0 in /usr/local/lib/python3.10/dist-packages (from tensorflow) (18.1.1)\n",
            "Requirement already satisfied: ml-dtypes~=0.2.0 in /usr/local/lib/python3.10/dist-packages (from tensorflow) (0.2.0)\n",
            "Requirement already satisfied: numpy<2.0.0,>=1.23.5 in /usr/local/lib/python3.10/dist-packages (from tensorflow) (1.25.2)\n",
            "Requirement already satisfied: opt-einsum>=2.3.2 in /usr/local/lib/python3.10/dist-packages (from tensorflow) (3.3.0)\n",
            "Requirement already satisfied: packaging in /usr/local/lib/python3.10/dist-packages (from tensorflow) (24.0)\n",
            "Requirement already satisfied: protobuf!=4.21.0,!=4.21.1,!=4.21.2,!=4.21.3,!=4.21.4,!=4.21.5,<5.0.0dev,>=3.20.3 in /usr/local/lib/python3.10/dist-packages (from tensorflow) (3.20.3)\n",
            "Requirement already satisfied: setuptools in /usr/local/lib/python3.10/dist-packages (from tensorflow) (67.7.2)\n",
            "Requirement already satisfied: six>=1.12.0 in /usr/local/lib/python3.10/dist-packages (from tensorflow) (1.16.0)\n",
            "Requirement already satisfied: termcolor>=1.1.0 in /usr/local/lib/python3.10/dist-packages (from tensorflow) (2.4.0)\n",
            "Requirement already satisfied: typing-extensions>=3.6.6 in /usr/local/lib/python3.10/dist-packages (from tensorflow) (4.11.0)\n",
            "Requirement already satisfied: wrapt<1.15,>=1.11.0 in /usr/local/lib/python3.10/dist-packages (from tensorflow) (1.14.1)\n",
            "Requirement already satisfied: tensorflow-io-gcs-filesystem>=0.23.1 in /usr/local/lib/python3.10/dist-packages (from tensorflow) (0.36.0)\n",
            "Requirement already satisfied: grpcio<2.0,>=1.24.3 in /usr/local/lib/python3.10/dist-packages (from tensorflow) (1.62.1)\n",
            "Requirement already satisfied: tensorboard<2.16,>=2.15 in /usr/local/lib/python3.10/dist-packages (from tensorflow) (2.15.2)\n",
            "Requirement already satisfied: tensorflow-estimator<2.16,>=2.15.0 in /usr/local/lib/python3.10/dist-packages (from tensorflow) (2.15.0)\n",
            "Requirement already satisfied: keras<2.16,>=2.15.0 in /usr/local/lib/python3.10/dist-packages (from tensorflow) (2.15.0)\n",
            "Requirement already satisfied: wheel<1.0,>=0.23.0 in /usr/local/lib/python3.10/dist-packages (from astunparse>=1.6.0->tensorflow) (0.43.0)\n",
            "Requirement already satisfied: google-auth<3,>=1.6.3 in /usr/local/lib/python3.10/dist-packages (from tensorboard<2.16,>=2.15->tensorflow) (2.27.0)\n",
            "Requirement already satisfied: google-auth-oauthlib<2,>=0.5 in /usr/local/lib/python3.10/dist-packages (from tensorboard<2.16,>=2.15->tensorflow) (1.2.0)\n",
            "Requirement already satisfied: markdown>=2.6.8 in /usr/local/lib/python3.10/dist-packages (from tensorboard<2.16,>=2.15->tensorflow) (3.6)\n",
            "Requirement already satisfied: requests<3,>=2.21.0 in /usr/local/lib/python3.10/dist-packages (from tensorboard<2.16,>=2.15->tensorflow) (2.31.0)\n",
            "Requirement already satisfied: tensorboard-data-server<0.8.0,>=0.7.0 in /usr/local/lib/python3.10/dist-packages (from tensorboard<2.16,>=2.15->tensorflow) (0.7.2)\n",
            "Requirement already satisfied: werkzeug>=1.0.1 in /usr/local/lib/python3.10/dist-packages (from tensorboard<2.16,>=2.15->tensorflow) (3.0.2)\n",
            "Requirement already satisfied: cachetools<6.0,>=2.0.0 in /usr/local/lib/python3.10/dist-packages (from google-auth<3,>=1.6.3->tensorboard<2.16,>=2.15->tensorflow) (5.3.3)\n",
            "Requirement already satisfied: pyasn1-modules>=0.2.1 in /usr/local/lib/python3.10/dist-packages (from google-auth<3,>=1.6.3->tensorboard<2.16,>=2.15->tensorflow) (0.4.0)\n",
            "Requirement already satisfied: rsa<5,>=3.1.4 in /usr/local/lib/python3.10/dist-packages (from google-auth<3,>=1.6.3->tensorboard<2.16,>=2.15->tensorflow) (4.9)\n",
            "Requirement already satisfied: requests-oauthlib>=0.7.0 in /usr/local/lib/python3.10/dist-packages (from google-auth-oauthlib<2,>=0.5->tensorboard<2.16,>=2.15->tensorflow) (1.3.1)\n",
            "Requirement already satisfied: charset-normalizer<4,>=2 in /usr/local/lib/python3.10/dist-packages (from requests<3,>=2.21.0->tensorboard<2.16,>=2.15->tensorflow) (3.3.2)\n",
            "Requirement already satisfied: idna<4,>=2.5 in /usr/local/lib/python3.10/dist-packages (from requests<3,>=2.21.0->tensorboard<2.16,>=2.15->tensorflow) (3.6)\n",
            "Requirement already satisfied: urllib3<3,>=1.21.1 in /usr/local/lib/python3.10/dist-packages (from requests<3,>=2.21.0->tensorboard<2.16,>=2.15->tensorflow) (2.0.7)\n",
            "Requirement already satisfied: certifi>=2017.4.17 in /usr/local/lib/python3.10/dist-packages (from requests<3,>=2.21.0->tensorboard<2.16,>=2.15->tensorflow) (2024.2.2)\n",
            "Requirement already satisfied: MarkupSafe>=2.1.1 in /usr/local/lib/python3.10/dist-packages (from werkzeug>=1.0.1->tensorboard<2.16,>=2.15->tensorflow) (2.1.5)\n",
            "Requirement already satisfied: pyasn1<0.7.0,>=0.4.6 in /usr/local/lib/python3.10/dist-packages (from pyasn1-modules>=0.2.1->google-auth<3,>=1.6.3->tensorboard<2.16,>=2.15->tensorflow) (0.6.0)\n",
            "Requirement already satisfied: oauthlib>=3.0.0 in /usr/local/lib/python3.10/dist-packages (from requests-oauthlib>=0.7.0->google-auth-oauthlib<2,>=0.5->tensorboard<2.16,>=2.15->tensorflow) (3.2.2)\n",
            "Requirement already satisfied: keras in /usr/local/lib/python3.10/dist-packages (2.15.0)\n",
            "Requirement already satisfied: numpy in /usr/local/lib/python3.10/dist-packages (1.25.2)\n",
            "Requirement already satisfied: matplotlib in /usr/local/lib/python3.10/dist-packages (3.7.1)\n",
            "Requirement already satisfied: contourpy>=1.0.1 in /usr/local/lib/python3.10/dist-packages (from matplotlib) (1.2.1)\n",
            "Requirement already satisfied: cycler>=0.10 in /usr/local/lib/python3.10/dist-packages (from matplotlib) (0.12.1)\n",
            "Requirement already satisfied: fonttools>=4.22.0 in /usr/local/lib/python3.10/dist-packages (from matplotlib) (4.51.0)\n",
            "Requirement already satisfied: kiwisolver>=1.0.1 in /usr/local/lib/python3.10/dist-packages (from matplotlib) (1.4.5)\n",
            "Requirement already satisfied: numpy>=1.20 in /usr/local/lib/python3.10/dist-packages (from matplotlib) (1.25.2)\n",
            "Requirement already satisfied: packaging>=20.0 in /usr/local/lib/python3.10/dist-packages (from matplotlib) (24.0)\n",
            "Requirement already satisfied: pillow>=6.2.0 in /usr/local/lib/python3.10/dist-packages (from matplotlib) (9.4.0)\n",
            "Requirement already satisfied: pyparsing>=2.3.1 in /usr/local/lib/python3.10/dist-packages (from matplotlib) (3.1.2)\n",
            "Requirement already satisfied: python-dateutil>=2.7 in /usr/local/lib/python3.10/dist-packages (from matplotlib) (2.8.2)\n",
            "Requirement already satisfied: six>=1.5 in /usr/local/lib/python3.10/dist-packages (from python-dateutil>=2.7->matplotlib) (1.16.0)\n"
          ]
        }
      ]
    },
    {
      "cell_type": "markdown",
      "source": [
        "## Importing Necessary Libraries\n",
        "\n",
        "#### Before we begin training our model, we need to import essential libraries that will be used throughout the process. Each library serves a specific purpose in data preprocessing, model building, training, evaluation, and visualization.\n",
        "\n",
        "#### Here's a breakdown of the libraries we're importing:\n",
        "\n",
        "- **numpy**: Used for numerical computing and array manipulation, essential for handling data.\n",
        "- **matplotlib.pyplot**: Provides plotting functions to visualize data and model performance.\n",
        "- **tensorflow**: The core library for building and training deep learning models.\n",
        "- **seaborn**: Offers additional visualization tools to enhance the aesthetics of plots.\n",
        "- **tensorflow.keras.datasets**: Allows us to easily access standard datasets like CIFAR-10 for training and testing.\n",
        "- **tensorflow.keras.models**: Provides tools for building neural network models, including Sequential and Model.\n",
        "- **tensorflow.keras.layers**: Contains various types of layers used to construct neural networks, such as Dense, Conv2D, and Dropout.\n",
        "- **tensorflow.keras.applications**: Offers pre-trained models like MobileNetV2, which can be used as feature extractors or fine-tuned for specific tasks.\n",
        "- **tensorflow.keras.preprocessing.image**: Provides utilities for image data preprocessing, including data augmentation.\n",
        "- **tensorflow.keras.callbacks**: Includes callback functions like ModelCheckpoint to save the best model during training.\n",
        "- **collections.Counter**: Useful for counting occurrences of elements, which can be helpful for analyzing class distributions.\n",
        "- **keras.models.load_model**: Allows us to load a pre-trained model for further analysis or evaluation.\n",
        "- **keras.optimizers.Adam**: An optimization algorithm used to update model parameters during training.\n",
        "- **keras.utils.to_categorical**: Converts class vectors (integers) to binary class matrices (one-hot encoding).\n",
        "- **sklearn.metrics**: Provides tools for evaluating model performance, including confusion matrix and classification report."
      ],
      "metadata": {
        "id": "GeQHmPM3wFbK"
      }
    },
    {
      "cell_type": "code",
      "source": [
        "import numpy as np\n",
        "import matplotlib.pyplot as plt\n",
        "import tensorflow as tf\n",
        "import seaborn as sns\n",
        "from tensorflow.keras.datasets import cifar10\n",
        "from tensorflow.keras.models import Sequential, Model\n",
        "from tensorflow.keras.layers import Dense, Flatten, Conv2D, MaxPooling2D, Dropout\n",
        "from tensorflow.keras.applications import MobileNetV2\n",
        "from tensorflow.keras.preprocessing.image import ImageDataGenerator\n",
        "from tensorflow.keras.callbacks import ModelCheckpoint\n",
        "from collections import Counter\n",
        "from keras.models import load_model\n",
        "from keras.optimizers import Adam\n",
        "from keras.utils import to_categorical\n",
        "from sklearn.metrics import confusion_matrix, classification_report"
      ],
      "metadata": {
        "id": "ZUUhMw9AwLBX"
      },
      "execution_count": 2,
      "outputs": []
    },
    {
      "cell_type": "markdown",
      "source": [
        "## Loading the CIFAR-10 Dataset\n",
        "\n",
        "#### The CIFAR-10 dataset is a widely used benchmark dataset for image classification tasks. It consists of 60,000 32x32 color images in 10 classes, with 6,000 images per class.\n",
        "\n",
        "#### This line of code loads the CIFAR-10 dataset into memory, splitting it into training and testing sets. The training set `(x_train, y_train)` contains images and their corresponding labels, while the testing set `(x_test, y_test)` is used to evaluate the trained model's performance.\n",
        "\n",
        "#### The dataset is automatically downloaded from an online repository and cached locally for future use. It provides a standardized and convenient way to access a diverse collection of images for training and testing deep learning models."
      ],
      "metadata": {
        "id": "X4M8iLHWwPZH"
      }
    },
    {
      "cell_type": "code",
      "source": [
        "(x_train, y_train), (x_test, y_test) = cifar10.load_data()"
      ],
      "metadata": {
        "colab": {
          "base_uri": "https://localhost:8080/"
        },
        "id": "v1nHEvO_wRu8",
        "outputId": "715a0cba-5508-4fad-fac3-0ed64c5ffd90"
      },
      "execution_count": 3,
      "outputs": [
        {
          "output_type": "stream",
          "name": "stdout",
          "text": [
            "Downloading data from https://www.cs.toronto.edu/~kriz/cifar-10-python.tar.gz\n",
            "170498071/170498071 [==============================] - 4s 0us/step\n"
          ]
        }
      ]
    },
    {
      "cell_type": "markdown",
      "source": [
        "## Visualizing Sample Images from the Dataset\n",
        "\n",
        "#### Visualization of sample images from the dataset serves as an initial exploration step to gain insights into the data's characteristics and quality. Understanding the dataset's content can help in making informed decisions during model development and preprocessing.\n",
        "\n",
        "#### In this code snippet, we display a grid of nine random images from the training set. Each image is plotted in a separate subplot, allowing us to inspect multiple samples at once.\n",
        "\n",
        "#### Key points about the visualization:\n",
        "- **Figure Size**: The size of the figure is set to (10, 5) to ensure sufficient space for displaying the images.\n",
        "- **Looping Through Images**: We iterate through the first nine images in the training set (`x_train`) using a for loop.\n",
        "- **Subplot Configuration**: Images are arranged in a 3x3 grid using `plt.subplot(3, 3, i+1)`, where `i` represents the index of the current image.\n",
        "- **Image Display**: Each image is shown using `plt.imshow()`, which renders the image in the corresponding subplot.\n",
        "- **Display**: Finally, `plt.show()` is called to render the entire grid of images for visualization.\n",
        "\n",
        "#### This visualization provides an initial glimpse into the dataset's contents, helping us assess the image quality, diversity, and potential challenges that may arise during model training."
      ],
      "metadata": {
        "id": "tBojdBMuwWCL"
      }
    },
    {
      "cell_type": "code",
      "source": [
        "# Display sample images\n",
        "plt.figure(figsize=(10, 5))\n",
        "for i in range(9):\n",
        "    plt.subplot(3, 3, i+1)\n",
        "    plt.imshow(x_train[i])\n",
        "plt.show()"
      ],
      "metadata": {
        "colab": {
          "base_uri": "https://localhost:8080/",
          "height": 449
        },
        "id": "8Q5x49hgwY2T",
        "outputId": "b3666d21-2010-489b-9be5-27ff2015420d"
      },
      "execution_count": 4,
      "outputs": [
        {
          "output_type": "display_data",
          "data": {
            "text/plain": [
              "<Figure size 1000x500 with 9 Axes>"
            ],
            "image/png": "[encoded data removed]"
          },
          "metadata": {}
        }
      ]
    },
    {
      "cell_type": "markdown",
      "source": [
        "## Checking the Shape and Class Distribution of the Dataset\n",
        "\n",
        "#### After loading the dataset, it's crucial to inspect its shape and class distribution to understand the data's structure and balance. This step helps ensure that the dataset is properly loaded and provides insights into potential biases or imbalances that may impact model training.\n",
        "\n",
        "#### In this code snippet, we perform the following actions:\n",
        "1. **Printing Data Shapes**: We print the shapes of the training and testing datasets to confirm the number of images and their dimensions. This includes the shape of both the input images (`x_train`, `x_test`) and their corresponding labels (`y_train`, `y_test`).\n",
        "2. **Exploring Class Distribution**: Additionally, we explore the class distribution within the training dataset to understand the frequency of each class. This information is valuable for assessing class balance and identifying any potential biases in the dataset.\n",
        "\n",
        "#### Key points:\n",
        "- **Data Shapes**: The shapes of the training and testing datasets provide insights into the dataset's size and structure. It confirms the number of images and their dimensions, ensuring consistency and compatibility with model architecture.\n",
        "- **Class Distribution**: The class distribution analysis reveals the frequency of each class in the training dataset. It helps identify if certain classes are overrepresented or underrepresented, which can influence model training and performance.\n",
        "\n",
        "#### By examining the dataset's shape and class distribution, we gain essential insights into its characteristics, enabling us to make informed decisions during model development and evaluation."
      ],
      "metadata": {
        "id": "Iv8xY4_Wwcz3"
      }
    },
    {
      "cell_type": "code",
      "source": [
        "print('Training data shape:', x_train.shape)\n",
        "print('Training labels shape:', y_train.shape)\n",
        "print('Test data shape:', x_test.shape)\n",
        "print('Test labels shape:', y_test.shape)\n",
        "\n",
        "# Explore class distribution (if using a standard dataset)\n",
        "# Explore class distribution\n",
        "print('Class Distribution (Top 10):')\n",
        "print(Counter(np.argmax(y_train, axis=1)).most_common(10))"
      ],
      "metadata": {
        "colab": {
          "base_uri": "https://localhost:8080/"
        },
        "id": "VvdWrxq9wfR2",
        "outputId": "7ea1f3f4-a032-42ca-f4f0-c8b71cd923a6"
      },
      "execution_count": 5,
      "outputs": [
        {
          "output_type": "stream",
          "name": "stdout",
          "text": [
            "Training data shape: (50000, 32, 32, 3)\n",
            "Training labels shape: (50000, 1)\n",
            "Test data shape: (10000, 32, 32, 3)\n",
            "Test labels shape: (10000, 1)\n",
            "Class Distribution (Top 10):\n",
            "[(0, 50000)]\n"
          ]
        }
      ]
    },
    {
      "cell_type": "markdown",
      "source": [
        "## Image Preprocessing: Normalizing Pixel Values\n",
        "\n",
        "#### Before feeding the images into the neural network model, it's essential to preprocess them to ensure uniformity and enhance model convergence. One common preprocessing step is normalization, where the pixel values of the images are scaled to a standard range.\n",
        "\n",
        "#### In this code snippet, we perform the following preprocessing step:\n",
        "- **Normalization**: The pixel values of both the training and testing images (`x_train` and `x_test`, respectively) are normalized by dividing each pixel value by 255.0. This operation scales the pixel values to a range between 0 and 1, making them suitable for input to the neural network.\n",
        "\n",
        "#### Key points:\n",
        "- **Normalization Purpose**: Normalizing the pixel values ensures that they fall within a consistent range, which can improve model convergence and stability during training.\n",
        "- **Data Type Conversion**: Before normalization, the data type of the pixel values is explicitly converted to `float32` to facilitate accurate division.\n",
        "- **Scaling Range**: Dividing by 255.0 scales the pixel values to a range between 0 and 1, preserving the relative intensity information of the images.\n",
        "\n",
        "#### Normalizing pixel values is a fundamental preprocessing step that helps prepare the image data for effective training and enhances the model's ability to learn meaningful patterns from the data.\n"
      ],
      "metadata": {
        "id": "F1LlnxSXwhgr"
      }
    },
    {
      "cell_type": "code",
      "source": [
        "# Normalize the data\n",
        "x_train = x_train.astype('float32') / 255.0\n",
        "x_test = x_test.astype('float32') / 255.0"
      ],
      "metadata": {
        "id": "EsFFf5Cmwj1_"
      },
      "execution_count": 6,
      "outputs": []
    },
    {
      "cell_type": "markdown",
      "source": [
        "## Image Preprocessing: Resizing Images\n",
        "\n",
        "#### Resizing images to a consistent size is a crucial preprocessing step in image classification tasks, ensuring uniformity in input dimensions across all images. In this code snippet, we perform resizing of images to prepare them for model input.\n",
        "\n",
        "#### Key steps in this preprocessing section include:\n",
        "- **Defining Batch Size**: We define the batch size, which determines the number of images processed simultaneously during training and testing.\n",
        "- **Creating TensorFlow Datasets**: TensorFlow datasets are created from the training and testing image arrays (`x_train` and `x_test`, respectively).\n",
        "- **Resizing Images**: Images are resized to a consistent size of (128, 128) using the `tf.image.resize` function. This ensures that all images have the same dimensions, facilitating consistent input to the neural network model.\n",
        "\n",
        "#### Key points:\n",
        "- **Uniform Input Size**: Resizing images to a consistent size eliminates variations in image dimensions, enabling seamless integration into the model architecture.\n",
        "- **Batch Processing**: Images are resized in batches during both training and testing phases, enhancing computational efficiency and memory utilization.\n",
        "- **Preservation of Aspect Ratio**: The `tf.image.resize` function resizes images while preserving their aspect ratio, ensuring that the image content remains intact.\n",
        "\n",
        "#### By resizing images to a standardized size, we ensure compatibility with the model's input requirements and facilitate effective learning of features and patterns from the image data."
      ],
      "metadata": {
        "id": "GRrt2ehWwnCS"
      }
    },
    {
      "cell_type": "code",
      "source": [
        "# Define batch size\n",
        "batch_size = 32\n",
        "# Create TensorFlow datasets\n",
        "train_dataset = tf.data.Dataset.from_tensor_slices(x_train)\n",
        "test_dataset = tf.data.Dataset.from_tensor_slices(x_test)\n",
        "# Resize images in batches during training\n",
        "train_dataset = train_dataset.batch(batch_size).map(lambda x: tf.image.resize(x, (128, 128)))\n",
        "# Resize images in batches during testing\n",
        "test_dataset = test_dataset.batch(batch_size).map(lambda x: tf.image.resize(x, (128, 128)))"
      ],
      "metadata": {
        "id": "1z5FzWZKwox9"
      },
      "execution_count": 7,
      "outputs": []
    },
    {
      "cell_type": "markdown",
      "source": [
        "## Data Augmentation: Enhancing Dataset Diversity\n",
        "\n",
        "#### Data augmentation is a crucial technique employed in training deep learning models to increase the diversity and robustness of the dataset. By applying various transformations to the existing images, we can create new training examples, thereby reducing overfitting and improving generalization performance.\n",
        "\n",
        "#### Key components of this data augmentation section include:\n",
        "- **ImageDataGenerator Configuration**: We use the `ImageDataGenerator` class provided by Keras to perform data augmentation. This class allows us to define a wide range of augmentation parameters.\n",
        "- **Experimenting with Parameters**: The code snippet showcases some example data augmentation parameters that can be adjusted to explore different augmentation techniques. Parameters such as `rotation_range`, `width_shift_range`, `height_shift_range`, and `horizontal_flip` control the types and degrees of transformations applied to the images.\n",
        "- **Guidelines for Parameter Adjustment**:\n",
        "  - *Start with Small Adjustments*: Begin by making small adjustments to the parameters to observe their effects clearly on the augmented images.\n",
        "  - *Consider Dataset Characteristics*: Choose augmentation techniques that are appropriate for the characteristics of your dataset. For example, flipping images horizontally might be suitable for certain datasets, while excessive rotation might distort the content.\n",
        "  - *Explore Additional Parameters*: Experiment with additional augmentation parameters such as `shear_range` and `zoom_range` to further diversify the dataset.\n",
        "- **Visualization of Augmented Images**: After configuring the `ImageDataGenerator`, it's beneficial to visualize a few randomly augmented images from the dataset to understand how the chosen parameters affect the appearance of the images. This visual inspection helps in fine-tuning the augmentation parameters to achieve the desired augmentation effects.\n",
        "\n",
        "#### By applying data augmentation techniques, we can effectively increase the variability of the training dataset, leading to improved model performance and robustness against real-world variations."
      ],
      "metadata": {
        "id": "AHNLV3qkwqlc"
      }
    },
    {
      "cell_type": "code",
      "source": [
        "datagen = ImageDataGenerator(\n",
        "    rotation_range=20,\n",
        "    width_shift_range=0.1,\n",
        "    height_shift_range=0.1,\n",
        "    horizontal_flip=True\n",
        ")\n",
        "datagen.fit(x_train)"
      ],
      "metadata": {
        "id": "KBnLftPjwsmo"
      },
      "execution_count": 8,
      "outputs": []
    },
    {
      "cell_type": "markdown",
      "source": [
        "## Model Building: Constructing the Convolutional Neural Network (CNN)\n",
        "\n",
        "#### The model building stage involves creating a convolutional neural network (CNN) architecture for image classification. Key steps and components of this section include:\n",
        "- **Choice of Pre-Trained Model**: In this example, we opt to use a pre-trained model called MobileNetV2. Pre-trained models like VGG16, ResNet50, and MobileNetV2 are popular choices due to their effectiveness in feature extraction tasks.\n",
        "- **Loading Pre-Trained Weights**: The `MobileNetV2` model is initialized with weights pre-trained on the ImageNet dataset, which helps in capturing rich hierarchical features from images.\n",
        "- **Freezing Pre-Trained Layers**: To leverage the knowledge learned by the pre-trained model while training our classifier, we freeze some layers of the `MobileNetV2` model. Freezing prevents the weights of these layers from being updated during training, ensuring that the learned features remain intact.\n",
        "- **Adding Custom Classification Layers**: We append additional layers on top of the pre-trained base model to tailor it for our specific classification task. These custom layers include a `Flatten` layer to convert the output of the convolutional layers into a 1D feature vector, followed by fully connected (`Dense`) layers with ReLU activation functions to learn complex patterns in the data. A `Dropout` layer is included to mitigate overfitting by randomly deactivating a fraction of neurons during training.\n",
        "- **Model Compilation**: After defining the architecture, we compile the model by specifying the optimizer (e.g., Adam), the loss function (e.g., categorical cross-entropy for multi-class classification), and the evaluation metric (e.g., accuracy).\n",
        "- **Model Summary**: It's beneficial to inspect the summary of the model architecture to understand the number of parameters and the flow of data through different layers.\n",
        "\n",
        "#### By building the CNN architecture and configuring it for our classification task, we establish the foundation for subsequent model training and evaluation stages."
      ],
      "metadata": {
        "id": "PC8ealOPwvog"
      }
    },
    {
      "cell_type": "code",
      "source": [
        "# Choose a pre-trained model suitable for object recognition (VGG16, ResNet50, MobileNetV2 are all options)\n",
        "base_model = MobileNetV2(weights='imagenet', include_top=False, input_shape=(32, 32, 3))\n",
        "\n",
        "# Freeze some layers of the pre-trained model\n",
        "for layer in base_model.layers[:-10]:\n",
        "    layer.trainable = False\n",
        "num_classes = 10\n",
        "model = Sequential([\n",
        "    base_model,\n",
        "    Flatten(),\n",
        "    Dense(256, activation='relu'),\n",
        "    Dropout(0.5),\n",
        "    Dense(10, activation='softmax')\n",
        "])"
      ],
      "metadata": {
        "colab": {
          "base_uri": "https://localhost:8080/"
        },
        "id": "vHXfhen4wxUZ",
        "outputId": "c3f88242-2b5b-45d0-89c2-077ce4aa9887"
      },
      "execution_count": 9,
      "outputs": [
        {
          "output_type": "stream",
          "name": "stderr",
          "text": [
            "WARNING:tensorflow:`input_shape` is undefined or non-square, or `rows` is not in [96, 128, 160, 192, 224]. Weights for input shape (224, 224) will be loaded as the default.\n"
          ]
        },
        {
          "output_type": "stream",
          "name": "stdout",
          "text": [
            "Downloading data from https://storage.googleapis.com/tensorflow/keras-applications/mobilenet_v2/mobilenet_v2_weights_tf_dim_ordering_tf_kernels_1.0_224_no_top.h5\n",
            "9406464/9406464 [==============================] - 0s 0us/step\n"
          ]
        }
      ]
    },
    {
      "cell_type": "markdown",
      "source": [
        "## Compilation: Configuring the Model for Training\n",
        "\n",
        "#### The compilation step involves configuring the model for the training process. Key aspects of this stage include:\n",
        "- **Optimizer Selection**: Here, we choose the Adam optimizer, a popular choice for gradient-based optimization algorithms. Adam adapts learning rates for each parameter, providing efficient convergence and robustness to noisy gradients.\n",
        "- **Loss Function Definition**: For this multi-class classification task, we use sparse categorical cross-entropy as the loss function. It calculates the cross-entropy loss between the true labels and the predicted probabilities, with sparse categorical cross-entropy specifically designed for integer-encoded target labels.\n",
        "- **Performance Metrics Specification**: We specify 'accuracy' as the performance metric to monitor during training. Accuracy measures the proportion of correctly classified images in the training data and is a common metric for evaluating classification models.\n",
        "\n",
        "#### By compiling the model with appropriate optimizer, loss function, and evaluation metrics, we prepare it for the training phase, where it learns to make accurate predictions on unseen data."
      ],
      "metadata": {
        "id": "LrtDMwK7wze2"
      }
    },
    {
      "cell_type": "code",
      "source": [
        "model.compile(optimizer='adam', loss='sparse_categorical_crossentropy', metrics=['accuracy'])"
      ],
      "metadata": {
        "id": "hul0VQwQw2nA"
      },
      "execution_count": 10,
      "outputs": []
    },
    {
      "cell_type": "markdown",
      "source": [
        "## Model Checkpointing: Saving the Best Model Automatically\n",
        "\n",
        "#### ModelCheckpoint is a callback function in Keras that automatically saves the model's weights during training. Key attributes include:\n",
        "- **File Path Specification**: We specify the file path where the model weights will be saved. In this example, the best performing model will be saved as 'best_model.h5'.\n",
        "- **Saving Only the Best Model**: By setting `save_best_only=True`, ModelCheckpoint saves only the model weights that yield the lowest validation loss. This prevents overfitting by preserving the model with the best generalization performance.\n",
        "- **Monitoring Metric**: ModelCheckpoint monitors the validation loss (`monitor='val_loss'`) to determine the best model. When the validation loss decreases, indicating improved performance, the model weights are saved.\n",
        "- **Mode Specification**: In this case, `mode='min'` indicates that the monitored quantity (validation loss) should be minimized. Alternatively, for metrics like accuracy, `mode='max'` would be appropriate.\n",
        "\n",
        "#### ModelCheckpoint ensures that the best performing model is saved automatically during training, allowing us to access the model with optimal generalization performance for future use."
      ],
      "metadata": {
        "id": "iEJyKW_hw9m0"
      }
    },
    {
      "cell_type": "code",
      "source": [
        "checkpoint = ModelCheckpoint('best_model.h5', save_best_only=True, monitor='val_loss', mode='min', verbose=1)"
      ],
      "metadata": {
        "id": "ywk5fA3rw_Q9"
      },
      "execution_count": 11,
      "outputs": []
    },
    {
      "cell_type": "markdown",
      "source": [
        "## Model Training: Training the Model with Data Augmentation\n",
        "\n",
        "#### The `fit` method in Keras is used to train the model on the training data. Key parameters include:\n",
        "- **Training Data Generator**: Instead of passing raw training data directly, we use `datagen.flow(x_train, y_train, batch_size=32)` to generate batches of augmented training data on-the-fly. This allows for dynamic augmentation during training, enhancing model generalization.\n",
        "- **Number of Epochs**: We specify the number of training epochs (`epochs=20`) to define how many times the entire training dataset will be passed forward and backward through the neural network. Adjust this parameter based on convergence and computational resources.\n",
        "- **Validation Data**: Validation data (`validation_data=(x_test, y_test)`) is used to monitor the model's performance on unseen data during training. This helps to detect overfitting and guides model optimization.\n",
        "- **Callbacks**: We include the `checkpoint` callback to save the best performing model weights based on validation loss. The ModelCheckpoint callback ensures that the model with the lowest validation loss is saved automatically.\n",
        "\n",
        "#### The `fit` method returns a history object containing training metrics such as loss and accuracy, which can be used for further analysis and visualization."
      ],
      "metadata": {
        "id": "qfyhg8wbxBJH"
      }
    },
    {
      "cell_type": "code",
      "source": [
        "history = model.fit(\n",
        "    datagen.flow(x_train, y_train, batch_size=32),\n",
        "    epochs=20,  # Adjust as needed\n",
        "    validation_data=(x_test, y_test),\n",
        "    callbacks=[checkpoint]\n",
        ")"
      ],
      "metadata": {
        "colab": {
          "base_uri": "https://localhost:8080/"
        },
        "id": "OSzRJFjzxDS7",
        "outputId": "2ebc8194-dedf-4667-cfab-d406a8d5338f"
      },
      "execution_count": 12,
      "outputs": [
        {
          "output_type": "stream",
          "name": "stdout",
          "text": [
            "Epoch 1/20\n",
            "1563/1563 [==============================] - ETA: 0s - loss: 1.7782 - accuracy: 0.0997\n",
            "Epoch 1: val_loss improved from inf to 1.90655, saving model to best_model.h5\n"
          ]
        },
        {
          "output_type": "stream",
          "name": "stderr",
          "text": [
            "/usr/local/lib/python3.10/dist-packages/keras/src/engine/training.py:3103: UserWarning: You are saving your model as an HDF5 file via `model.save()`. This file format is considered legacy. We recommend using instead the native Keras format, e.g. `model.save('my_model.keras')`.\n",
            "  saving_api.save_model(\n"
          ]
        },
        {
          "output_type": "stream",
          "name": "stdout",
          "text": [
            "\b\b\b\b\b\b\b\b\b\b\b\b\b\b\b\b\b\b\b\b\b\b\b\b\b\b\b\b\b\b\b\b\b\b\b\b\b\b\b\b\b\b\b\b\b\b\b\b\b\b\b\b\b\b\b\b\b\b\b\b\b\b\b\b\b\b\b\b\b\b\b\b\b\b\b\b\b\b\b\b\b\b\b\b\b\b\r1563/1563 [==============================] - 73s 37ms/step - loss: 1.7782 - accuracy: 0.0997 - val_loss: 1.9065 - val_accuracy: 0.0578\n",
            "Epoch 2/20\n",
            "1563/1563 [==============================] - ETA: 0s - loss: 1.6049 - accuracy: 0.0942\n",
            "Epoch 2: val_loss did not improve from 1.90655\n",
            "1563/1563 [==============================] - 47s 30ms/step - loss: 1.6049 - accuracy: 0.0942 - val_loss: 2.0065 - val_accuracy: 0.0497\n",
            "Epoch 3/20\n",
            "1563/1563 [==============================] - ETA: 0s - loss: 1.5673 - accuracy: 0.0931\n",
            "Epoch 3: val_loss improved from 1.90655 to 1.54732, saving model to best_model.h5\n",
            "1563/1563 [==============================] - 44s 28ms/step - loss: 1.5673 - accuracy: 0.0931 - val_loss: 1.5473 - val_accuracy: 0.1483\n",
            "Epoch 4/20\n",
            "1561/1563 [============================>.] - ETA: 0s - loss: 1.5392 - accuracy: 0.0954\n",
            "Epoch 4: val_loss improved from 1.54732 to 1.39940, saving model to best_model.h5\n",
            "1563/1563 [==============================] - 43s 28ms/step - loss: 1.5395 - accuracy: 0.0954 - val_loss: 1.3994 - val_accuracy: 0.0847\n",
            "Epoch 5/20\n",
            "1562/1563 [============================>.] - ETA: 0s - loss: 1.5083 - accuracy: 0.0952\n",
            "Epoch 5: val_loss improved from 1.39940 to 1.36358, saving model to best_model.h5\n",
            "1563/1563 [==============================] - 44s 28ms/step - loss: 1.5083 - accuracy: 0.0952 - val_loss: 1.3636 - val_accuracy: 0.1182\n",
            "Epoch 6/20\n",
            "1562/1563 [============================>.] - ETA: 0s - loss: 1.4898 - accuracy: 0.0972\n",
            "Epoch 6: val_loss did not improve from 1.36358\n",
            "1563/1563 [==============================] - 42s 27ms/step - loss: 1.4901 - accuracy: 0.0972 - val_loss: 1.4959 - val_accuracy: 0.1396\n",
            "Epoch 7/20\n",
            "1561/1563 [============================>.] - ETA: 0s - loss: 1.4670 - accuracy: 0.0961\n",
            "Epoch 7: val_loss improved from 1.36358 to 1.30458, saving model to best_model.h5\n",
            "1563/1563 [==============================] - 43s 28ms/step - loss: 1.4668 - accuracy: 0.0961 - val_loss: 1.3046 - val_accuracy: 0.1122\n",
            "Epoch 8/20\n",
            "1562/1563 [============================>.] - ETA: 0s - loss: 1.4450 - accuracy: 0.0958\n",
            "Epoch 8: val_loss improved from 1.30458 to 1.30371, saving model to best_model.h5\n",
            "1563/1563 [==============================] - 43s 27ms/step - loss: 1.4451 - accuracy: 0.0958 - val_loss: 1.3037 - val_accuracy: 0.0661\n",
            "Epoch 9/20\n",
            "1561/1563 [============================>.] - ETA: 0s - loss: 1.4373 - accuracy: 0.0959\n",
            "Epoch 9: val_loss improved from 1.30371 to 1.24408, saving model to best_model.h5\n",
            "1563/1563 [==============================] - 42s 27ms/step - loss: 1.4373 - accuracy: 0.0959 - val_loss: 1.2441 - val_accuracy: 0.0981\n",
            "Epoch 10/20\n",
            "1562/1563 [============================>.] - ETA: 0s - loss: 1.4144 - accuracy: 0.0971\n",
            "Epoch 10: val_loss improved from 1.24408 to 1.21772, saving model to best_model.h5\n",
            "1563/1563 [==============================] - 42s 27ms/step - loss: 1.4143 - accuracy: 0.0972 - val_loss: 1.2177 - val_accuracy: 0.1023\n",
            "Epoch 11/20\n",
            "1561/1563 [============================>.] - ETA: 0s - loss: 1.4019 - accuracy: 0.0954\n",
            "Epoch 11: val_loss did not improve from 1.21772\n",
            "1563/1563 [==============================] - 42s 27ms/step - loss: 1.4021 - accuracy: 0.0955 - val_loss: 1.2824 - val_accuracy: 0.1174\n",
            "Epoch 12/20\n",
            "1562/1563 [============================>.] - ETA: 0s - loss: 1.3877 - accuracy: 0.0962\n",
            "Epoch 12: val_loss did not improve from 1.21772\n",
            "1563/1563 [==============================] - 42s 27ms/step - loss: 1.3876 - accuracy: 0.0962 - val_loss: 1.2181 - val_accuracy: 0.0990\n",
            "Epoch 13/20\n",
            "1563/1563 [==============================] - ETA: 0s - loss: 1.3885 - accuracy: 0.0979\n",
            "Epoch 13: val_loss did not improve from 1.21772\n",
            "1563/1563 [==============================] - 41s 26ms/step - loss: 1.3885 - accuracy: 0.0979 - val_loss: 1.2415 - val_accuracy: 0.0961\n",
            "Epoch 14/20\n",
            "1562/1563 [============================>.] - ETA: 0s - loss: 1.3725 - accuracy: 0.0978\n",
            "Epoch 14: val_loss improved from 1.21772 to 1.21612, saving model to best_model.h5\n",
            "1563/1563 [==============================] - 43s 27ms/step - loss: 1.3726 - accuracy: 0.0978 - val_loss: 1.2161 - val_accuracy: 0.0944\n",
            "Epoch 15/20\n",
            "1563/1563 [==============================] - ETA: 0s - loss: 1.3648 - accuracy: 0.0956\n",
            "Epoch 15: val_loss did not improve from 1.21612\n",
            "1563/1563 [==============================] - 42s 27ms/step - loss: 1.3648 - accuracy: 0.0956 - val_loss: 1.2398 - val_accuracy: 0.0736\n",
            "Epoch 16/20\n",
            "1562/1563 [============================>.] - ETA: 0s - loss: 1.3519 - accuracy: 0.0967\n",
            "Epoch 16: val_loss improved from 1.21612 to 1.21011, saving model to best_model.h5\n",
            "1563/1563 [==============================] - 41s 26ms/step - loss: 1.3518 - accuracy: 0.0967 - val_loss: 1.2101 - val_accuracy: 0.0815\n",
            "Epoch 17/20\n",
            "1562/1563 [============================>.] - ETA: 0s - loss: 1.3482 - accuracy: 0.0985\n",
            "Epoch 17: val_loss improved from 1.21011 to 1.17344, saving model to best_model.h5\n",
            "1563/1563 [==============================] - 42s 27ms/step - loss: 1.3484 - accuracy: 0.0985 - val_loss: 1.1734 - val_accuracy: 0.0935\n",
            "Epoch 18/20\n",
            "1563/1563 [==============================] - ETA: 0s - loss: 1.3345 - accuracy: 0.0973\n",
            "Epoch 18: val_loss did not improve from 1.17344\n",
            "1563/1563 [==============================] - 42s 27ms/step - loss: 1.3345 - accuracy: 0.0973 - val_loss: 1.1890 - val_accuracy: 0.0948\n",
            "Epoch 19/20\n",
            "1561/1563 [============================>.] - ETA: 0s - loss: 1.3304 - accuracy: 0.0973\n",
            "Epoch 19: val_loss improved from 1.17344 to 1.16880, saving model to best_model.h5\n",
            "1563/1563 [==============================] - 43s 27ms/step - loss: 1.3302 - accuracy: 0.0974 - val_loss: 1.1688 - val_accuracy: 0.1005\n",
            "Epoch 20/20\n",
            "1562/1563 [============================>.] - ETA: 0s - loss: 1.3251 - accuracy: 0.0970\n",
            "Epoch 20: val_loss improved from 1.16880 to 1.16282, saving model to best_model.h5\n",
            "1563/1563 [==============================] - 43s 27ms/step - loss: 1.3252 - accuracy: 0.0970 - val_loss: 1.1628 - val_accuracy: 0.1045\n"
          ]
        }
      ]
    },
    {
      "cell_type": "markdown",
      "source": [
        "## Enhanced Model Training with Data Augmentation\n",
        "\n",
        "#### This section outlines enhanced model training techniques, including data augmentation and callback implementation.\n",
        "- **Data Augmentation**: Data augmentation is integrated into the training loop using the `ImageDataGenerator` class from Keras. Augmentation parameters such as rotation, width and height shifts, horizontal flipping, shear range, and zoom range are defined to generate augmented images on-the-fly during training. This technique helps to increase the diversity and size of the training dataset, reducing overfitting and improving model generalization.\n",
        "- **One-Hot Encoding**: Target labels (`y_train` and `y_test`) are one-hot encoded using the `to_categorical` function. This transforms integer labels into binary vectors, which are easier for the neural network to process during training.\n",
        "- **ModelCheckpoint Callback**: A `ModelCheckpoint` callback is defined to save the best performing model based on validation accuracy (`monitor='val_accuracy'`). The callback is configured to save only the model with the highest validation accuracy, ensuring that the best model is retained for future use.\n",
        "- **Training Loop Modification**: The training loop is modified to utilize the augmented data generated by `datagen_train.flow(x_train, y_train, batch_size=32)`. This ensures that data augmentation is applied in real-time during training. The validation set (`x_test, y_test`) is used to monitor the model's performance on unseen data during training. Additionally, the `callbacks` parameter includes the `checkpoint` callback to save the best model.\n"
      ],
      "metadata": {
        "id": "n25w3kvtxFB1"
      }
    },
    {
      "cell_type": "code",
      "source": [
        "# One-hot encode the target labels\n",
        "y_train_encoded = to_categorical(y_train)\n",
        "y_test_encoded = to_categorical(y_test)\n",
        "# Define the ImageDataGenerator for data augmentation\n",
        "datagen_train = ImageDataGenerator(\n",
        "    rotation_range=20,\n",
        "    width_shift_range=0.1,\n",
        "    height_shift_range=0.1,\n",
        "    horizontal_flip=True,\n",
        "    shear_range=0.2,\n",
        "    zoom_range=0.2\n",
        ")\n",
        "datagen_train.fit(x_train)\n",
        "# Define ModelCheckpoint callback to save the best model based on validation accuracy\n",
        "checkpoint = ModelCheckpoint('best_accuracy_model.h5', save_best_only=True, monitor='val_accuracy', mode='max', verbose=1)\n",
        "# Train the model with data augmentation\n",
        "history = model.fit(\n",
        "    datagen_train.flow(x_train, y_train, batch_size=32),\n",
        "    epochs=20,\n",
        "    validation_data=(x_test, y_test),\n",
        "    callbacks=[checkpoint]\n",
        ")"
      ],
      "metadata": {
        "colab": {
          "base_uri": "https://localhost:8080/"
        },
        "id": "pyPUsxnyxG-g",
        "outputId": "4de39747-064a-48a3-ef2a-5a97ef27d686"
      },
      "execution_count": null,
      "outputs": [
        {
          "output_type": "stream",
          "name": "stdout",
          "text": [
            "Epoch 1/20\n",
            "1563/1563 [==============================] - ETA: 0s - loss: 1.3586 - accuracy: 0.0966\n",
            "Epoch 1: val_accuracy improved from -inf to 0.08840, saving model to best_accuracy_model.h5\n",
            "1563/1563 [==============================] - 43s 27ms/step - loss: 1.3586 - accuracy: 0.0966 - val_loss: 1.1756 - val_accuracy: 0.0884\n",
            "Epoch 2/20\n",
            "1562/1563 [============================>.] - ETA: 0s - loss: 1.3577 - accuracy: 0.0974\n",
            "Epoch 2: val_accuracy did not improve from 0.08840\n",
            "1563/1563 [==============================] - 42s 27ms/step - loss: 1.3577 - accuracy: 0.0974 - val_loss: 1.1896 - val_accuracy: 0.0877\n",
            "Epoch 3/20\n",
            "1561/1563 [============================>.] - ETA: 0s - loss: 1.3496 - accuracy: 0.0962\n",
            "Epoch 3: val_accuracy did not improve from 0.08840\n",
            "1563/1563 [==============================] - 43s 28ms/step - loss: 1.3497 - accuracy: 0.0962 - val_loss: 1.1960 - val_accuracy: 0.0735\n",
            "Epoch 4/20\n",
            "1561/1563 [============================>.] - ETA: 0s - loss: 1.3499 - accuracy: 0.0945\n",
            "Epoch 4: val_accuracy did not improve from 0.08840\n",
            "1563/1563 [==============================] - 42s 27ms/step - loss: 1.3500 - accuracy: 0.0944 - val_loss: 1.1704 - val_accuracy: 0.0869\n",
            "Epoch 5/20\n",
            "1561/1563 [============================>.] - ETA: 0s - loss: 1.3404 - accuracy: 0.0974\n",
            "Epoch 5: val_accuracy improved from 0.08840 to 0.10550, saving model to best_accuracy_model.h5\n",
            "1563/1563 [==============================] - 45s 29ms/step - loss: 1.3400 - accuracy: 0.0974 - val_loss: 1.1345 - val_accuracy: 0.1055\n",
            "Epoch 6/20\n",
            "1385/1563 [=========================>....] - ETA: 4s - loss: 1.3263 - accuracy: 0.0960"
          ]
        }
      ]
    },
    {
      "cell_type": "markdown",
      "source": [
        "## Visualizing Training Progress\n",
        "\n",
        "#### This section focuses on visualizing the training progress of the model by plotting training and validation accuracy/loss curves.\n",
        "- **Importance of Monitoring**: Monitoring validation metrics such as accuracy and loss is crucial for identifying potential issues like overfitting or underfitting during model training. By comparing the performance on both training and validation sets, we can assess how well the model generalizes to unseen data. Discrepancies between the training and validation curves may indicate overfitting (when the training accuracy is much higher than the validation accuracy) or underfitting (when both accuracies remain low).\n",
        "- **Plotting Curves**: Two types of curves are plotted:\n",
        "  - *Accuracy Curves*: These curves display the accuracy of the model on both the training and validation datasets over epochs. A rising accuracy indicates improvement in model performance, while fluctuating or diverging curves may signal overfitting.\n",
        "  - *Loss Curves*: These curves show the training and validation losses over epochs. Lower loss values indicate better model convergence and predictive performance. Similar to accuracy curves, discrepancies between training and validation losses can indicate overfitting or underfitting.\n"
      ],
      "metadata": {
        "id": "Dzi1xG0RxIT3"
      }
    },
    {
      "cell_type": "code",
      "source": [
        "# Plot training and validation curves\n",
        "plt.plot(history.history['accuracy'])\n",
        "plt.plot(history.history['val_accuracy'])\n",
        "plt.title('Model Accuracy')\n",
        "plt.ylabel('Accuracy')\n",
        "plt.xlabel('Epoch')\n",
        "plt.legend(['train', 'val'], loc='lower right')\n",
        "plt.show()\n",
        "# Plot the loss curves\n",
        "plt.plot(history.history['loss'])\n",
        "plt.plot(history.history['val_loss'])\n",
        "plt.title('Model Loss')\n",
        "plt.ylabel('Loss')\n",
        "plt.xlabel('Epoch')\n",
        "plt.legend(['train', 'val'], loc='upper right')\n",
        "plt.show()"
      ],
      "metadata": {
        "id": "o4MbO8TzxKZq"
      },
      "execution_count": null,
      "outputs": []
    },
    {
      "cell_type": "markdown",
      "source": [
        "## Evaluation on the Test Set\n",
        "\n",
        "#### This section focuses on evaluating the trained model on the test set and discusses why test set metrics provide an unbiased assessment of model performance.\n",
        "- **Unbiased Assessment**: The test set metrics, including loss and accuracy, provide an unbiased evaluation of the model's performance on unseen data. Unlike training and validation sets, the test set is not used during model training or hyperparameter tuning. Therefore, its performance metrics reflect how well the model generalizes to new, unseen samples.\n",
        "- **Loading the Best Model**: The best-performing model (based on validation accuracy) is loaded using the `load_model` function. This ensures that the evaluation is conducted on the model variant that exhibited the highest performance on the validation set during training.\n",
        "- **Calculating Test Metrics**: Test loss and accuracy are computed using the `evaluate` method on the loaded model with the test data. The test loss represents the model's prediction error on the test set, while test accuracy indicates the proportion of correctly classified samples out of the total test set.\n",
        "- **Interpreting Test Metrics**: Understanding the test loss and accuracy is essential for assessing the model's overall performance. A low test loss and high test accuracy suggest that the model performs well on unseen data and generalizes effectively. Conversely, high test loss or low test accuracy may indicate issues such as overfitting or insufficient model capacity.\n"
      ],
      "metadata": {
        "id": "2SjhqMi8xL1y"
      }
    },
    {
      "cell_type": "code",
      "source": [
        "best_model = load_model('best_accuracy_model.h5')\n",
        "test_loss, test_acc = best_model.evaluate(x_test, y_test)\n",
        "print('Test Loss:', test_loss)\n",
        "print('Test Accuracy:', test_acc)"
      ],
      "metadata": {
        "id": "O9GeNFJKxQAb"
      },
      "execution_count": null,
      "outputs": []
    },
    {
      "cell_type": "markdown",
      "source": [
        "## Target Label Shape Analysis\n",
        "\n",
        "#### This section provides an analysis of the shape of target labels (`y_train` and `y_test`) before training.\n",
        "- **Shape Analysis**: The shapes of the target labels are printed using the `shape` attribute. This helps to confirm the dimensions of the target label arrays, indicating the number of samples and the number of classes.\n",
        "- **Interpretation**: Understanding the shape of target labels is crucial for model training and evaluation. It ensures that the data is correctly formatted and compatible with the model architecture and loss function."
      ],
      "metadata": {
        "id": "_Qx2s3tOxR9W"
      }
    },
    {
      "cell_type": "code",
      "source": [
        "print(\"Shape of y_train:\", y_train.shape)\n",
        "print(\"Shape of y_test:\", y_test.shape)"
      ],
      "metadata": {
        "id": "xvEntdxPxU7-"
      },
      "execution_count": null,
      "outputs": []
    },
    {
      "cell_type": "markdown",
      "source": [
        "## One-Hot Encoding of Target Labels\n",
        "\n",
        "#### This section converts the target labels (`y_train` and `y_test`) to one-hot encoded format.\n",
        "- **One-Hot Encoding**: The `to_categorical` function from Keras is used to convert integer labels to one-hot encoded vectors. Each label is transformed into a binary vector where only one bit is high (1) and the others are low (0).\n",
        "- **Shape Analysis**: After one-hot encoding, the shapes of the encoded target labels (`y_train_encoded` and `y_test_encoded`) are printed to confirm the transformation. This ensures that the encoding process was successful and that the dimensions are appropriate for model training and evaluation."
      ],
      "metadata": {
        "id": "iponKMaaxWMr"
      }
    },
    {
      "cell_type": "code",
      "source": [
        "# Convert the target labels to one-hot encoded format\n",
        "y_train_encoded = to_categorical(y_train)\n",
        "y_test_encoded = to_categorical(y_test)\n",
        "print(\"Shape of y_train_encoded:\", y_train_encoded.shape)\n",
        "print(\"Shape of y_test_encoded:\", y_test_encoded.shape)"
      ],
      "metadata": {
        "id": "2gq32zpvxZM-"
      },
      "execution_count": null,
      "outputs": []
    },
    {
      "cell_type": "markdown",
      "source": [
        "## Model Creation and Training with Different Learning Rates\n",
        "\n",
        "#### This section defines a function `create_model` to build a convolutional neural network (CNN) for image classification.\n",
        "- **Model Architecture**: The CNN architecture includes convolutional layers, max-pooling layers, flattening layer, dense layers, and dropout regularization.\n",
        "- **Compilation**: The model is compiled using the Adam optimizer with a specified learning rate and categorical cross-entropy loss function. Accuracy is chosen as the metric for evaluation.\n",
        "- **Training Loop**: The code then trains the model using different learning rates specified in the loop (`[0.01, 0.001, 0.0001]`). For each learning rate, a new model is created and trained for a fixed number of epochs (10) using the training dataset (`x_train` and `y_train_encoded`). The validation data (`x_test` and `y_test_encoded`) are used to monitor performance during training."
      ],
      "metadata": {
        "id": "lumtl3OaxafT"
      }
    },
    {
      "cell_type": "code",
      "source": [
        "def create_model(learning_rate=0.01):\n",
        "    model = Sequential([\n",
        "        Conv2D(32, (3, 3), activation='relu', input_shape=(32, 32, 3)),\n",
        "        MaxPooling2D((2, 2)),\n",
        "        Flatten(),\n",
        "        Dense(128, activation='relu'),\n",
        "        Dropout(0.5),\n",
        "        Dense(10, activation='softmax')\n",
        "    ])\n",
        "\n",
        "    optimizer = Adam(learning_rate=learning_rate)\n",
        "    model.compile(optimizer=optimizer, loss='categorical_crossentropy', metrics=['accuracy'])\n",
        "\n",
        "    return model\n",
        "# Training with different learning rates\n",
        "for lr in [0.01, 0.001, 0.0001]:\n",
        "    model = create_model(learning_rate=lr)\n",
        "    history = model.fit(x_train, y_train_encoded, epochs=10, validation_data=(x_test, y_test_encoded))"
      ],
      "metadata": {
        "id": "ytAICFdlxcR2"
      },
      "execution_count": null,
      "outputs": []
    },
    {
      "cell_type": "markdown",
      "source": [
        "## Model Evaluation Function\n",
        "\n",
        "#### This code defines a function `evaluate_model` to evaluate the performance of a trained model on test data.\n",
        "- **Function Definition**: The function takes three arguments: the trained model, the test data (`x_test`), and the one-hot encoded test labels (`y_test_encoded`).\n",
        "- **One-Hot Encoding**: Before evaluation, the integer label array `y_test` is converted to one-hot encoded format using the `to_categorical` function to match the model's output format.\n",
        "- **Evaluation**: The function then evaluates the model on the test data and prints the test loss and accuracy."
      ],
      "metadata": {
        "id": "ydJ_8qGexdp_"
      }
    },
    {
      "cell_type": "code",
      "source": [
        "# Define evaluate_model function\n",
        "def evaluate_model(model, x_test, y_test_encoded):\n",
        "\n",
        "# Assuming y_test is the integer label array\n",
        "    y_test_encoded = to_categorical(y_test)\n",
        "\n",
        "# Now, pass y_test_encoded to the evaluate_model function\n",
        "    evaluate_model(model, x_test, y_test_encoded)"
      ],
      "metadata": {
        "id": "5xnucGH8xf47"
      },
      "execution_count": null,
      "outputs": []
    },
    {
      "cell_type": "markdown",
      "source": [
        "## Model Prediction and Shape Comparison\n",
        "\n",
        "#### This code assumes that the model has been trained and predictions have been made on the test data.\n",
        "- **Model Prediction**: The code calculates predictions (`y_pred`) using the trained model on the test data (`x_test`).\n",
        "- **Shape Comparison**: It then prints the shape of the predicted labels array (`y_pred`) and the shape of the one-hot encoded test labels array (`y_test_encoded`). This comparison helps ensure consistency between the shapes of predicted and actual labels for further analysis.\n"
      ],
      "metadata": {
        "id": "FhNSEgHzxhoc"
      }
    },
    {
      "cell_type": "code",
      "source": [
        "y_pred = model.predict(x_test)\n",
        "y_pred_classes = np.argmax(y_pred, axis=1)\n",
        "print(\"Shape of y_pred:\", y_pred.shape)\n",
        "\n",
        "print(\"Shape of y_pred:\", y_pred.shape)\n",
        "print(\"Shape of y_test_encoded:\", y_test_encoded.shape)"
      ],
      "metadata": {
        "id": "__R4NcgixjQ8"
      },
      "execution_count": null,
      "outputs": []
    },
    {
      "cell_type": "markdown",
      "source": [
        "## Model Evaluation and Visualization\n",
        "\n",
        "#### This code segment involves visualizing the training curves and evaluating the model's performance on the test data.\n",
        "- **Plotting Training Curves**: The `plot_curves` function plots the training and validation accuracy as well as the training and validation loss curves over epochs. It also includes the learning rate used in the title for reference.\n",
        "- **Model Evaluation**: The `evaluate_model` function evaluates the model on the test data and prints out the test loss and accuracy.\n",
        "- **Usage Example**: The code then demonstrates how to use these functions by passing the training history (`history`) and learning rate (`lr`) to `plot_curves`, and the trained model (`model`), test data (`x_test`, `y_test`), and encoded test labels (`y_test_encoded`) to `evaluate_model`.\n"
      ],
      "metadata": {
        "id": "GId2loP_xkf7"
      }
    },
    {
      "cell_type": "code",
      "source": [
        "# Plot the training curves and evaluate the model once more.\n",
        "def plot_curves(history, learning_rate):\n",
        "    plt.plot(history.history['accuracy'], label='Training Accuracy')\n",
        "    plt.plot(history.history['val_accuracy'], label='Validation Accuracy')\n",
        "    plt.title(f'Model Accuracy (LR={learning_rate})')  # Include learning rate in the title\n",
        "    plt.xlabel('Epoch')\n",
        "    plt.ylabel('Accuracy')\n",
        "    plt.legend()\n",
        "    plt.show()\n",
        "    plt.plot(history.history['loss'], label='Training Loss')\n",
        "    plt.plot(history.history['val_loss'], label='Validation Loss')\n",
        "    plt.title(f'Model Loss (LR={learning_rate})')  # Include learning rate in the title\n",
        "    plt.xlabel('Epoch')\n",
        "    plt.ylabel('Loss')\n",
        "    plt.legend()\n",
        "    plt.show()\n",
        "# Evaluate the model\n",
        "def evaluate_model(model, x_test, y_test):\n",
        "    test_loss, test_accuracy = model.evaluate(x_test, y_test, verbose=0)\n",
        "    print('Test Loss:', test_loss)\n",
        "    print('Test Accuracy:', test_accuracy)\n",
        "# Assuming `history` contains the training history of a model and `lr` is the learning rate used\n",
        "plot_curves(history, lr)\n",
        "# Assuming `model` is the trained model and `x_test`, `y_test` are the test data\n",
        "evaluate_model(model, x_test, y_test_encoded)"
      ],
      "metadata": {
        "id": "Mb09e9STxlzq"
      },
      "execution_count": null,
      "outputs": []
    },
    {
      "cell_type": "markdown",
      "source": [
        "## Confusion Matrix and Classification Report\n",
        "\n",
        "#### This code section involves generating and visualizing the confusion matrix, as well as calculating the classification report.\n",
        "- **Confusion Matrix Generation**: The confusion matrix (`cm`) is generated using the true labels (`y_test`) and the predicted labels (`y_pred_classes`).\n",
        "- **Visualization**: The confusion matrix is printed and visualized as a heatmap using seaborn's `heatmap` function. This provides a visual representation of the model's performance in predicting each class.\n",
        "- **Classification Report**: The classification report is calculated using `classification_report` from sklearn.metrics. It provides a comprehensive summary of the model's performance, including precision, recall, F1-score, and support for each class.\n"
      ],
      "metadata": {
        "id": "HngKJY4ixnlj"
      }
    },
    {
      "cell_type": "code",
      "source": [
        "# Generate confusion matrix\n",
        "cm = confusion_matrix(y_test, y_pred_classes)\n",
        "# Print confusion matrix\n",
        "print(\"Confusion Matrix:\")\n",
        "print(cm)\n",
        "# Plot confusion matrix as heatmap\n",
        "plt.figure(figsize=(8, 6))\n",
        "sns.heatmap(cm, annot=True, fmt='d', cmap='Blues')\n",
        "plt.xlabel('Predicted Label')\n",
        "plt.ylabel('True Label')\n",
        "plt.title('Confusion Matrix')\n",
        "plt.show()\n",
        "# Calculate classification report\n",
        "class_report = classification_report(y_test, y_pred_classes)\n",
        "print(\"Classification Report:\")\n",
        "print(class_report)"
      ],
      "metadata": {
        "id": "1hE6-G47xpSv"
      },
      "execution_count": null,
      "outputs": []
    },
    {
      "cell_type": "markdown",
      "source": [
        "## Model Evaluation on Test Data\n",
        "\n",
        "#### This code section evaluates the trained model on the testing data and prints out the test loss and accuracy.\n",
        "- **Evaluation**: The `evaluate` method is used to evaluate the model's performance on the test dataset (`x_test` and `y_test_encoded`).\n",
        "- **Metrics**: The test loss (`test_loss`) and test accuracy (`test_accuracy`) are printed to provide insights into the model's performance on unseen data."
      ],
      "metadata": {
        "id": "GdY6AfMExsMm"
      }
    },
    {
      "cell_type": "code",
      "source": [
        "# Evaluate the model on test data\n",
        "test_loss, test_accuracy = model.evaluate(x_test, y_test_encoded, verbose=0)\n",
        "# Print the test loss and accuracy\n",
        "print('Test Loss:', test_loss)\n",
        "print('Test Accuracy:', test_accuracy)"
      ],
      "metadata": {
        "id": "V-LLnp0ExvIu"
      },
      "execution_count": null,
      "outputs": []
    },
    {
      "cell_type": "markdown",
      "source": [
        "## Conclusion\n",
        "\n",
        "This project demonstrates the complete workflow of image classification using TensorFlow and Keras on the CIFAR-10 dataset.\n",
        "By following this example, users can understand how to build, train, evaluate, and visualize CNN models for image classification tasks.\n",
        "Future work may involve experimenting with different architectures, optimization techniques, and datasets for further improvement.\n",
        "This project provides a comprehensive demonstration of image classification using TensorFlow and Keras on the CIFAR-10 dataset. Through the detailed code explanations and examples, users can gain a deep understanding of various stages of the machine learning pipeline, including data preprocessing, model building, training, evaluation, and visualization.\n",
        "\n",
        "By following the examples and guidelines presented in this documentation, users can leverage TensorFlow and Keras to develop and train their own image classification models on different datasets. The flexibility of the code allows for easy experimentation with different architectures, hyperparameters, and optimization techniques, empowering users to adapt the workflow to their specific use cases.\n",
        "\n",
        "Furthermore, the integration of advanced techniques such as data augmentation, model checkpointing, and visualization enhances the robustness and interpretability of the developed models. This project serves as a valuable resource for both beginners and experienced practitioners seeking to delve into image classification with deep learning.\n",
        "\n",
        "Future directions for this project may involve exploring more advanced architectures, conducting hyperparameter tuning experiments, and applying transfer learning on larger and more complex datasets to further improve model performance and generalization capabilities."
      ],
      "metadata": {
        "id": "bDsDcQ15xws2"
      }
    }
  ]
}